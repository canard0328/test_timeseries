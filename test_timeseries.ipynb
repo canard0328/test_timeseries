{
  "nbformat": 4,
  "nbformat_minor": 0,
  "metadata": {
    "colab": {
      "name": "test_timeseries.ipynb",
      "provenance": [],
      "collapsed_sections": [],
      "authorship_tag": "ABX9TyPBakHPW7AaBYzvS5Qa23kK",
      "include_colab_link": true
    },
    "kernelspec": {
      "name": "python3",
      "display_name": "Python 3"
    },
    "language_info": {
      "name": "python"
    }
  },
  "cells": [
    {
      "cell_type": "markdown",
      "metadata": {
        "id": "view-in-github",
        "colab_type": "text"
      },
      "source": [
        "<a href=\"https://colab.research.google.com/github/canard0328/test_timeseries/blob/main/test_timeseries.ipynb\" target=\"_parent\"><img src=\"https://colab.research.google.com/assets/colab-badge.svg\" alt=\"Open In Colab\"/></a>"
      ]
    },
    {
      "cell_type": "markdown",
      "metadata": {
        "id": "cZlIJ7aLgsTB"
      },
      "source": [
        "https://www.statsmodels.org/devel/examples/index.html#state-space-models"
      ]
    },
    {
      "cell_type": "code",
      "metadata": {
        "id": "3CSPFzpMcXc7"
      },
      "source": [
        "%matplotlib inline"
      ],
      "execution_count": 5,
      "outputs": []
    },
    {
      "cell_type": "markdown",
      "metadata": {
        "id": "hoDH9mvHFfvf"
      },
      "source": [
        "# ARIMA"
      ]
    },
    {
      "cell_type": "markdown",
      "metadata": {
        "id": "v1vlLDC4Fgku"
      },
      "source": [
        "$$\n",
        "\\Delta y_t = c + \\phi_1 \\Delta y_{t-1} + \\theta_1 \\epsilon_{t-1} + \\epsilon_t\n",
        "$$"
      ]
    },
    {
      "cell_type": "code",
      "metadata": {
        "id": "kuuZ_2bCcufI"
      },
      "source": [
        "import numpy as np\n",
        "import pandas as pd\n",
        "from scipy.stats import norm\n",
        "import statsmodels.api as sm\n",
        "import matplotlib.pyplot as plt\n",
        "from datetime import datetime\n",
        "import requests\n",
        "from io import BytesIO\n",
        "# Register converters to avoid warnings\n",
        "pd.plotting.register_matplotlib_converters()\n",
        "plt.rc(\"figure\", figsize=(16,8))\n",
        "plt.rc(\"font\", size=14)"
      ],
      "execution_count": 6,
      "outputs": []
    },
    {
      "cell_type": "code",
      "metadata": {
        "id": "3PhVwIj8gQ2T"
      },
      "source": [
        "# Dataset\n",
        "wpi1 = requests.get('https://www.stata-press.com/data/r12/wpi1.dta').content\n",
        "data = pd.read_stata(BytesIO(wpi1))\n",
        "data.index = data.t\n",
        "# Set the frequency\n",
        "data.index.freq=\"QS-OCT\""
      ],
      "execution_count": 7,
      "outputs": []
    },
    {
      "cell_type": "code",
      "metadata": {
        "id": "-1yn5Dt4Fm4n",
        "outputId": "8a7acd10-309b-49c9-8c66-2f5a7562d0a5",
        "colab": {
          "base_uri": "https://localhost:8080/"
        }
      },
      "source": [
        "# Fit the model\n",
        "mod = sm.tsa.statespace.SARIMAX(data['wpi'], trend='c', order=(1,1,1))\n",
        "res = mod.fit(disp=False)\n",
        "print(res.summary())"
      ],
      "execution_count": 8,
      "outputs": [
        {
          "output_type": "stream",
          "text": [
            "                           Statespace Model Results                           \n",
            "==============================================================================\n",
            "Dep. Variable:                    wpi   No. Observations:                  124\n",
            "Model:               SARIMAX(1, 1, 1)   Log Likelihood                -135.351\n",
            "Date:                Sun, 30 May 2021   AIC                            278.703\n",
            "Time:                        07:04:27   BIC                            289.951\n",
            "Sample:                    01-01-1960   HQIC                           283.272\n",
            "                         - 10-01-1990                                         \n",
            "Covariance Type:                  opg                                         \n",
            "==============================================================================\n",
            "                 coef    std err          z      P>|z|      [0.025      0.975]\n",
            "------------------------------------------------------------------------------\n",
            "intercept      0.0943      0.068      1.389      0.165      -0.039       0.227\n",
            "ar.L1          0.8742      0.055     16.028      0.000       0.767       0.981\n",
            "ma.L1         -0.4120      0.100     -4.119      0.000      -0.608      -0.216\n",
            "sigma2         0.5257      0.053      9.849      0.000       0.421       0.630\n",
            "===================================================================================\n",
            "Ljung-Box (Q):                       37.12   Jarque-Bera (JB):                 9.78\n",
            "Prob(Q):                              0.60   Prob(JB):                         0.01\n",
            "Heteroskedasticity (H):              15.93   Skew:                             0.28\n",
            "Prob(H) (two-sided):                  0.00   Kurtosis:                         4.26\n",
            "===================================================================================\n",
            "\n",
            "Warnings:\n",
            "[1] Covariance matrix calculated using the outer product of gradients (complex-step).\n"
          ],
          "name": "stdout"
        }
      ]
    },
    {
      "cell_type": "markdown",
      "metadata": {
        "id": "Kml5umlXFr_C"
      },
      "source": [
        "$$\n",
        "\\Delta y_t = 0.0943 + 0.8742 \\Delta y_{t-1} - 0.412 \\epsilon_{t-1} + \\epsilon_t, \\epsilon_t \\sim N(0, 0.5257)\n",
        "$$"
      ]
    },
    {
      "cell_type": "markdown",
      "metadata": {
        "id": "_OV4xr6jFvQi"
      },
      "source": [
        "# ARIMA with additive seasonal effects"
      ]
    },
    {
      "cell_type": "markdown",
      "metadata": {
        "id": "LFTWzwWYFwYf"
      },
      "source": [
        "$$\n",
        "\\Delta y_t = c + \\phi_1 \\Delta y_{t-1} + \\theta_1 \\epsilon_{t-1} + \\theta_4 \\epsilon_{t-4} + \\epsilon_t\n",
        "$$"
      ]
    },
    {
      "cell_type": "code",
      "metadata": {
        "id": "3gnRK4UqFpI9"
      },
      "source": [
        ""
      ],
      "execution_count": null,
      "outputs": []
    }
  ]
}